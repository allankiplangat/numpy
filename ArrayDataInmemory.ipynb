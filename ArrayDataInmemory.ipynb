{
 "cells": [
  {
   "cell_type": "markdown",
   "metadata": {},
   "source": [
    "### Order of array data in memory\n",
    "\n",
    "Multidimentional arrays are stored as contigous(_touching_) data in memory.\n",
    "\n",
    "Considering a 2D array, to store the array as a concsecutive sequence of values. We have two ways.\n",
    "\n",
    "    (a) To store the rows after each other (row-major-format)\n",
    "    (b) To store the columns after each other (column-major-format)\n",
    "\n",
    "![Minion](https://craftofcoding.files.wordpress.com/2017/02/rowcolumnarrays.jpg)"
   ]
  },
  {
   "cell_type": "markdown",
   "metadata": {},
   "source": [
    "Row-major and column-major ordering are special cases of strategies for mapping the index used to address an element, to the offset for the element in the array’s memory segment. In general, the NumPy array attribute ndarray.strides defines exactly how this mapping is done. The strides attribute is a tuple of the same length as the number of axes (dimensions) of the array. Each value in strides is the factor by which the index for the corresponding axis is multiplied when calculating the memory offset (in bytes) for a given index expression.\n",
    "\n",
    "For example, consider a C-order array A with shape (2, 3), which corresponds to\n",
    "a two-dimensional array with two and three elements along the first and the second\n",
    "dimensions, respectively. If the data type is int32, then each element uses 4 bytes, and\n",
    "the total memory buffer for the array therefore uses 2 × 3 × 4 = 24 bytes. The strides\n",
    "attribute of this array is therefore (4 × 3, 4 × 1) = (12, 4), because each increment of m in\n",
    "A[n, m] increases the memory offset with one item, or 4 bytes. Likewise, each increment\n",
    "of n increases the memory offset with three items or 12 bytes (because the second dimension of the array has length 3). If, on the other hand, the same array were stored in\n",
    "'F' order, the strides would instead be (4, 8). Using strides to describe the mapping of\n",
    "array index to array memory offset is clever because it can be used to describe different\n",
    "mapping strategies, and many common operations on arrays, such as for example the\n",
    "transpose, can be implemented by simply changing the strides attribute, which can\n",
    "eliminate the need for moving data around in the memory. Operations that only require\n",
    "changing the strides attribute result in new ndarray objects that refer to the same data\n",
    "as the original array. Such arrays are called views. For efficiency, NumPy strives to create\n",
    "views rather than copies when applying operations on arrays. This is generally a good\n",
    "thing, but it is important to be aware of that some array operations result in views rather\n",
    "than new independent arrays, because modifying their data also modifies the data of the\n",
    "original array. Later in this chapter, we will see several examples of this behavior."
   ]
  },
  {
   "cell_type": "code",
   "execution_count": null,
   "metadata": {},
   "outputs": [],
   "source": []
  }
 ],
 "metadata": {
  "kernelspec": {
   "display_name": "Python 3",
   "language": "python",
   "name": "python3"
  },
  "language_info": {
   "codemirror_mode": {
    "name": "ipython",
    "version": 3
   },
   "file_extension": ".py",
   "mimetype": "text/x-python",
   "name": "python",
   "nbconvert_exporter": "python",
   "pygments_lexer": "ipython3",
   "version": "3.7.0"
  }
 },
 "nbformat": 4,
 "nbformat_minor": 2
}
