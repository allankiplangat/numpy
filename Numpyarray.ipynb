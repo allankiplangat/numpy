{
 "cells": [
  {
   "cell_type": "markdown",
   "metadata": {},
   "source": [
    "# Numerical Python (NumPy)\n",
    "\n",
    "Numpy provides data structures for representing a rich variety of arrays and functions for operating on the arrays. It provides the numerical backend of almost all the sccientific packages in python.\n",
    "for more information visit [Numpy Official Website](https://www.numpy.org)\n"
   ]
  },
  {
   "cell_type": "markdown",
   "metadata": {},
   "source": [
    "### Importing the numpy library\n",
    "\n",
    "Numpy is is imported under the alias np. Its functions and classes can be accessed using the `np` namespace. Import numpy as follows:\n",
    "\n",
    "    `import numpy as np`"
   ]
  },
  {
   "cell_type": "markdown",
   "metadata": {},
   "source": [
    "### The Numpy Array Object\n",
    "\n",
    "The `ndarray` class is the main data structure for representing multidimentional arrays in Numpy. \n",
    "\n",
    "These multidimentional arrays are homogeneous _All the elements have the same data type_ .\n",
    "\n",
    "The data structure also has metadata of the array attributes e.g shape, size, data type etc.\n",
    "\n",
    "The table below shows attributes available for the ndarray:\n",
    "\n",
    "Attrbutes | Description\n",
    "---| ---|\n",
    "`Shape` | A tuple that contains,\t\n",
    "T | `ndarray` Same as self.transpose(), except that self is returned if self.ndim < 2.,\n",
    "data | `buffer` Python buffer object pointing to the start of the array’s data.,\n",
    "dtype | `dtype object` Data-type of the array’s elements.\n",
    "flags | `dict` Information about the memory layout of the array.\n",
    "flat  | `numpy.flatiter object` A 1-D iterator over the array.\n",
    "imag | `ndarray` The imaginary part of the array.\n",
    "real | `ndarray` The real part of the array.\n",
    "size | `int` Number of elements in the array.\n",
    "itemsize | `int` Length of one array element in bytes.\n",
    "nbytes | `int` Total bytes consumed by the elements of the array.\n",
    "ndim | `int` Number of array dimensions.\n",
    "shape | `tuple of ints` Tuple of array dimensions.\n",
    "strides | `tuple of ints` Tuple of bytes to step in each dimension when traversing an array.\n",
    "ctypes | `ctypes object` An object to simplify the interaction of the array with the ctypes module.\n",
    "base | `ndarray` Base object if memory is from some other object."
   ]
  },
  {
   "cell_type": "code",
   "execution_count": null,
   "metadata": {},
   "outputs": [],
   "source": []
  }
 ],
 "metadata": {
  "kernelspec": {
   "display_name": "Python 3",
   "language": "python",
   "name": "python3"
  },
  "language_info": {
   "codemirror_mode": {
    "name": "ipython",
    "version": 3
   },
   "file_extension": ".py",
   "mimetype": "text/x-python",
   "name": "python",
   "nbconvert_exporter": "python",
   "pygments_lexer": "ipython3",
   "version": "3.7.0"
  }
 },
 "nbformat": 4,
 "nbformat_minor": 2
}
