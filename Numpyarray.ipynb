{
 "cells": [
  {
   "cell_type": "markdown",
   "metadata": {},
   "source": [
    "# Numerical Python (NumPy)\n",
    "\n",
    "Numpy provides data structures for representing a rich variety of arrays and functions for operating on the arrays. It provides the numerical backend of almost all the sccientific packages in python.\n",
    "for more information visit [Numpy Official Website](https://www.numpy.org)\n"
   ]
  },
  {
   "cell_type": "markdown",
   "metadata": {},
   "source": [
    "#### Importing the numpy library\n",
    "\n",
    "Numpy is is imported under the alias np. Its functions and classes can be accessed using the `np` namespace. Import numpy as follows:\n",
    "\n",
    "    `import numpy as np`"
   ]
  }
 ],
 "metadata": {
  "kernelspec": {
   "display_name": "Python 3",
   "language": "python",
   "name": "python3"
  },
  "language_info": {
   "codemirror_mode": {
    "name": "ipython",
    "version": 3
   },
   "file_extension": ".py",
   "mimetype": "text/x-python",
   "name": "python",
   "nbconvert_exporter": "python",
   "pygments_lexer": "ipython3",
   "version": "3.7.0"
  }
 },
 "nbformat": 4,
 "nbformat_minor": 2
}
